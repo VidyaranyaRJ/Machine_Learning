{
 "cells": [
  {
   "cell_type": "code",
   "execution_count": 17,
   "metadata": {},
   "outputs": [],
   "source": [
    "import numpy as np\n",
    "class Linear_Regrassion:\n",
    "    def __init__(self):\n",
    "        self.intercept = None\n",
    "        self.coefficients = None\n",
    "\n",
    "    def fit(self, X, y):\n",
    "        ones = np.ones((len(X), 1))\n",
    "        X = np.concatenate((ones, X), axis=1)\n",
    "\n",
    "        XT = X.T\n",
    "        XTX = XT.dot(X)\n",
    "        XTX_inv = np.linalg.inv(XTX)\n",
    "        XTy = XT.dot(y)\n",
    "        self.coefficients = XTX_inv.dot(XTy)\n",
    "        print(self.coefficients)\n",
    "\n",
    "    def predict(self, X):\n",
    "        ones = np.ones((len(X), 1))\n",
    "        X = np.concatenate((ones, X), axis=1)\n",
    "\n",
    "        return X.dot(self.coefficients)\n",
    "    \n",
    "    def r_sqaured(self, X, y):\n",
    "        y_pred = self.predict(X)\n",
    "        tss = np.sum((y-np.mean(y))**2)\n",
    "        rss = np.sum((y-y_pred)**2)\n",
    "        return 1-(rss/tss)"
   ]
  },
  {
   "cell_type": "code",
   "execution_count": 18,
   "metadata": {},
   "outputs": [],
   "source": [
    "X = np.array([[1], [2], [3], [4], [5]])\n",
    "y = np.array([2, 4, 6, 8, 10])"
   ]
  },
  {
   "cell_type": "code",
   "execution_count": 20,
   "metadata": {},
   "outputs": [
    {
     "name": "stdout",
     "output_type": "stream",
     "text": [
      "[1.77635684e-15 2.00000000e+00]\n"
     ]
    }
   ],
   "source": [
    "model = Linear_Regrassion()\n",
    "model.fit(X, y)\n"
   ]
  },
  {
   "cell_type": "code",
   "execution_count": 21,
   "metadata": {},
   "outputs": [
    {
     "data": {
      "text/plain": [
       "array([12., 14.])"
      ]
     },
     "execution_count": 21,
     "metadata": {},
     "output_type": "execute_result"
    }
   ],
   "source": [
    "model.predict(np.array([[6], [7]]))"
   ]
  },
  {
   "cell_type": "code",
   "execution_count": 22,
   "metadata": {},
   "outputs": [
    {
     "data": {
      "text/plain": [
       "1.0"
      ]
     },
     "execution_count": 22,
     "metadata": {},
     "output_type": "execute_result"
    }
   ],
   "source": [
    "model.r_sqaured(X, y)"
   ]
  },
  {
   "cell_type": "code",
   "execution_count": null,
   "metadata": {},
   "outputs": [],
   "source": []
  }
 ],
 "metadata": {
  "kernelspec": {
   "display_name": "Machine_Learning",
   "language": "python",
   "name": "python3"
  },
  "language_info": {
   "codemirror_mode": {
    "name": "ipython",
    "version": 3
   },
   "file_extension": ".py",
   "mimetype": "text/x-python",
   "name": "python",
   "nbconvert_exporter": "python",
   "pygments_lexer": "ipython3",
   "version": "3.11.9"
  }
 },
 "nbformat": 4,
 "nbformat_minor": 2
}
