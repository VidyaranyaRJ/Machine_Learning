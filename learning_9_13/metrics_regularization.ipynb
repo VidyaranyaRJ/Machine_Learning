{
 "cells": [
  {
   "cell_type": "code",
   "execution_count": 27,
   "metadata": {},
   "outputs": [],
   "source": [
    "import numpy as np\n",
    "y_actual = np.random.randint(10, 100, 10)\n",
    "y_pred = y_actual+np.random.randint(0, 10, 10)"
   ]
  },
  {
   "cell_type": "code",
   "execution_count": 28,
   "metadata": {},
   "outputs": [
    {
     "name": "stdout",
     "output_type": "stream",
     "text": [
      "[64 52 88 11 25 83 82 74 83 29] [69 53 96 12 32 83 90 81 83 31]\n"
     ]
    }
   ],
   "source": [
    "print(y_actual, y_pred)"
   ]
  },
  {
   "cell_type": "markdown",
   "metadata": {},
   "source": [
    "# Regression Metrics\n",
    "## Mean Absolute Error"
   ]
  },
  {
   "cell_type": "code",
   "execution_count": 29,
   "metadata": {},
   "outputs": [
    {
     "name": "stdout",
     "output_type": "stream",
     "text": [
      "[-5 -1 -8 -1 -7  0 -8 -7  0 -2]\n",
      "[5 1 8 1 7 0 8 7 0 2]\n",
      "3.9\n"
     ]
    }
   ],
   "source": [
    "error_mae = y_actual - y_pred\n",
    "print(error_mae)\n",
    "\n",
    "abs_error_mae = abs(error_mae)\n",
    "print(abs_error_mae)\n",
    "\n",
    "mae = sum(abs_error_mae)/len(y_actual)\n",
    "print(mae)"
   ]
  },
  {
   "cell_type": "code",
   "execution_count": 30,
   "metadata": {},
   "outputs": [
    {
     "name": "stdout",
     "output_type": "stream",
     "text": [
      "3.9\n"
     ]
    }
   ],
   "source": [
    "from sklearn.metrics import mean_absolute_error\n",
    "f_mae = mean_absolute_error(y_pred=y_pred, y_true=y_actual)\n",
    "print(f_mae)"
   ]
  },
  {
   "cell_type": "markdown",
   "metadata": {},
   "source": [
    "## Mean Squared Error"
   ]
  },
  {
   "cell_type": "code",
   "execution_count": 31,
   "metadata": {},
   "outputs": [
    {
     "name": "stdout",
     "output_type": "stream",
     "text": [
      "[25  1 64  1 49  0 64 49  0  4]\n",
      "25.7\n"
     ]
    }
   ],
   "source": [
    "error_mse = y_pred - y_actual\n",
    "\n",
    "squared_error_mse = error_mse**2\n",
    "print(squared_error_mse)\n",
    "\n",
    "mse = sum(squared_error_mse)/len(y_actual)\n",
    "print(mse)"
   ]
  },
  {
   "cell_type": "code",
   "execution_count": 32,
   "metadata": {},
   "outputs": [
    {
     "name": "stdout",
     "output_type": "stream",
     "text": [
      "25.7\n"
     ]
    }
   ],
   "source": [
    "from sklearn.metrics import mean_squared_error\n",
    "f_mse = mean_squared_error(y_pred=y_pred, y_true=y_actual)\n",
    "\n",
    "print(f_mse)"
   ]
  },
  {
   "cell_type": "markdown",
   "metadata": {},
   "source": [
    "## Root Mean Squared Error"
   ]
  },
  {
   "cell_type": "code",
   "execution_count": 33,
   "metadata": {},
   "outputs": [
    {
     "name": "stdout",
     "output_type": "stream",
     "text": [
      "5.06951674225463\n"
     ]
    }
   ],
   "source": [
    "import math\n",
    "error_rmse = y_actual - y_pred\n",
    "\n",
    "squared_error_rmse = error_rmse**2\n",
    "mse_rmse = sum(squared_error_rmse)/len(y_actual)\n",
    "rmse = math.sqrt(mse_rmse)\n",
    "print(rmse)"
   ]
  },
  {
   "cell_type": "code",
   "execution_count": 35,
   "metadata": {},
   "outputs": [
    {
     "name": "stdout",
     "output_type": "stream",
     "text": [
      "5.06951674225463\n"
     ]
    }
   ],
   "source": [
    "from sklearn.metrics import root_mean_squared_error\n",
    "f_rmse = root_mean_squared_error(y_pred=y_pred, y_true=y_actual)\n",
    "print(f_rmse)"
   ]
  },
  {
   "cell_type": "markdown",
   "metadata": {},
   "source": [
    "## Mean Absolute Percentage Error"
   ]
  },
  {
   "cell_type": "code",
   "execution_count": 37,
   "metadata": {},
   "outputs": [
    {
     "name": "stdout",
     "output_type": "stream",
     "text": [
      "8.202950384946812\n"
     ]
    }
   ],
   "source": [
    "error_mape = (y_actual - y_pred)/y_actual\n",
    "\n",
    "abs_error_mape = abs(error_mape)\n",
    "\n",
    "sum_abs_error_mape = sum(abs_error_mape)\n",
    "mape = (100/len(y_actual))*sum_abs_error_mape\n",
    "print(mape)"
   ]
  },
  {
   "cell_type": "code",
   "execution_count": 38,
   "metadata": {},
   "outputs": [
    {
     "name": "stdout",
     "output_type": "stream",
     "text": [
      "0.08202950384946811\n"
     ]
    }
   ],
   "source": [
    "from sklearn.metrics import mean_absolute_percentage_error\n",
    "\n",
    "f_mape = mean_absolute_percentage_error(y_pred=y_pred, y_true=y_actual)\n",
    "print(f_mape)"
   ]
  },
  {
   "cell_type": "markdown",
   "metadata": {},
   "source": [
    "## R Squared\n"
   ]
  },
  {
   "cell_type": "code",
   "execution_count": 42,
   "metadata": {},
   "outputs": [
    {
     "name": "stdout",
     "output_type": "stream",
     "text": [
      "257\n",
      "59.1\n",
      "7180.900000000001\n",
      "0.9642106142684065\n"
     ]
    }
   ],
   "source": [
    "rss_error = y_actual - y_pred\n",
    "rss_squared_error = rss_error**2\n",
    "rss_sum_squared_error = sum(rss_squared_error)\n",
    "print(rss_sum_squared_error)\n",
    "\n",
    "y_mean = sum(y_actual)/len(y_actual)\n",
    "print(y_mean)\n",
    "tss_error = y_actual - y_mean\n",
    "tss_squared_error = tss_error**2\n",
    "tss_sum_squared_error = sum(tss_squared_error)\n",
    "print(tss_sum_squared_error)\n",
    "\n",
    "r_squared = 1 - (rss_sum_squared_error/tss_sum_squared_error)\n",
    "\n",
    "print(r_squared)"
   ]
  },
  {
   "cell_type": "code",
   "execution_count": 43,
   "metadata": {},
   "outputs": [
    {
     "name": "stdout",
     "output_type": "stream",
     "text": [
      "0.9642106142684065\n"
     ]
    }
   ],
   "source": [
    "from sklearn.metrics import r2_score\n",
    "f_r2 = r2_score(y_pred=y_pred, y_true=y_actual)\n",
    "print(f_r2)"
   ]
  },
  {
   "cell_type": "code",
   "execution_count": null,
   "metadata": {},
   "outputs": [],
   "source": []
  }
 ],
 "metadata": {
  "kernelspec": {
   "display_name": "Machine_Learning",
   "language": "python",
   "name": "python3"
  },
  "language_info": {
   "codemirror_mode": {
    "name": "ipython",
    "version": 3
   },
   "file_extension": ".py",
   "mimetype": "text/x-python",
   "name": "python",
   "nbconvert_exporter": "python",
   "pygments_lexer": "ipython3",
   "version": "3.11.9"
  }
 },
 "nbformat": 4,
 "nbformat_minor": 2
}
